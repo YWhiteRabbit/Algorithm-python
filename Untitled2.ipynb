{
 "cells": [
  {
   "cell_type": "code",
   "execution_count": 1,
   "id": "53b09f26",
   "metadata": {},
   "outputs": [],
   "source": [
    "import random\n",
    "import time"
   ]
  },
  {
   "cell_type": "markdown",
   "id": "1eec6bda",
   "metadata": {},
   "source": [
    "# Little theorem Ferma"
   ]
  },
  {
   "cell_type": "code",
   "execution_count": 2,
   "id": "6825e341",
   "metadata": {},
   "outputs": [],
   "source": [
    "def ferma(n):\n",
    "    '''Тест для перевірки числа на простоту на осонові малої теореми Ферма\n",
    "    \n",
    "    True - ймовірністно просте, False - складене'''\n",
    "    start = time.time()\n",
    "    a=random.randint(2,n-1)\n",
    "    if (a**(n-1))%n==1:\n",
    "        end = time.time() - start\n",
    "        return True, end\n",
    "    else:\n",
    "        end = time.time() - start\n",
    "        return False, end"
   ]
  },
  {
   "cell_type": "code",
   "execution_count": 4,
   "id": "dcdb4366",
   "metadata": {},
   "outputs": [
    {
     "name": "stdout",
     "output_type": "stream",
     "text": [
      "(True, 0.0010004043579101562)\n"
     ]
    }
   ],
   "source": [
    "print(ferma(1729))"
   ]
  },
  {
   "cell_type": "markdown",
   "id": "9d2d5300",
   "metadata": {},
   "source": [
    "# Carmichael number"
   ]
  },
  {
   "cell_type": "code",
   "execution_count": 2,
   "id": "11aac905",
   "metadata": {},
   "outputs": [],
   "source": [
    "def karmichael(n, m):\n",
    "    '''n - порядковий номер, m - кількість множників'''\n",
    "    i = 0\n",
    "    d = 0\n",
    "    for i in range(1, m-1):\n",
    "        d+=9*(2**i)*n+1\n",
    "        i+=1\n",
    "    t=(6*n+1)*(12*n+1)*d\n",
    "    return t"
   ]
  },
  {
   "cell_type": "code",
   "execution_count": 3,
   "id": "567e5a29",
   "metadata": {},
   "outputs": [
    {
     "name": "stdout",
     "output_type": "stream",
     "text": [
      "[1729, 12025, 38665, 89425, 172081, 294409, 464185, 689185, 977185, 1335961, 1773289, 2296945, 2914705, 3634345, 4463641]\n"
     ]
    }
   ],
   "source": [
    "#знайдемо числа Кармайкла довжини 3 а універсальною формулою, яка відкрита у 1939 році, число буде числом Кармайкла за умови що всі множники прості\n",
    "number_3=[]\n",
    "for i in range(1, 16):\n",
    "    number_3.append(karmichael(i, 3))\n",
    "print(number_3)"
   ]
  },
  {
   "cell_type": "code",
   "execution_count": 7,
   "id": "9ec5c85a",
   "metadata": {},
   "outputs": [
    {
     "name": "stdout",
     "output_type": "stream",
     "text": [
      "(True, 0.0) 1729\n",
      "(False, 0.003002643585205078) 12025\n",
      "(True, 0.01897430419921875) 38665\n",
      "(False, 0.09400749206542969) 89425\n",
      "(True, 0.140028715133667) 172081\n",
      "(True, 0.944058895111084) 294409\n",
      "(False, 3.492278814315796) 464185\n",
      "(False, 5.4535956382751465) 689185\n",
      "(False, 10.164815187454224) 977185\n",
      "(False, 16.910485982894897) 1335961\n",
      "(True, 27.183175563812256) 1773289\n",
      "(False, 51.76060438156128) 2296945\n",
      "(False, 66.86531043052673) 2914705\n",
      "(False, 100.71319103240967) 3634345\n",
      "(True, 143.9549582004547) 4463641\n"
     ]
    }
   ],
   "source": [
    "for u in number_3:\n",
    "    print(ferma(u), u)"
   ]
  },
  {
   "cell_type": "markdown",
   "id": "55aaa05e",
   "metadata": {},
   "source": [
    "Зі згенерованих чисел за допомогою універсальної формули маємо 6 чисел, які пройшли тест малою теоремою Ферма."
   ]
  },
  {
   "cell_type": "code",
   "execution_count": 4,
   "id": "4843c215",
   "metadata": {},
   "outputs": [],
   "source": [
    "number_carmichael_1=[1729, 38665, 172081, 294409, 1773289, 4463641]"
   ]
  },
  {
   "cell_type": "code",
   "execution_count": 9,
   "id": "06d40e04",
   "metadata": {},
   "outputs": [
    {
     "name": "stdout",
     "output_type": "stream",
     "text": [
      "(True, 0.0) 1729\n",
      "(False, 0.006000518798828125) 12025\n",
      "(True, 0.048006534576416016) 38665\n",
      "(False, 0.23102045059204102) 89425\n",
      "(False, 0.5550415515899658) 172081\n",
      "(True, 1.4001119136810303) 294409\n",
      "(True, 2.9652388095855713) 464185\n",
      "(False, 7.727617979049683) 689185\n",
      "(False, 9.660773754119873) 977185\n",
      "(False, 17.432395696640015) 1335961\n",
      "(False, 34.024665117263794) 1773289\n",
      "(False, 42.104247093200684) 2296945\n",
      "(False, 69.12153100967407) 2914705\n",
      "(False, 86.88697290420532) 3634345\n",
      "(False, 127.81323146820068) 4463641\n"
     ]
    }
   ],
   "source": [
    "for v in number_3:\n",
    "    print(ferma(v), v)"
   ]
  },
  {
   "cell_type": "markdown",
   "id": "cc30a000",
   "metadata": {},
   "source": [
    "Запустивши вдруге чи є згенеровані за допомогою універсальної формули, числами Кармайкла є:"
   ]
  },
  {
   "cell_type": "code",
   "execution_count": 5,
   "id": "0407955e",
   "metadata": {},
   "outputs": [],
   "source": [
    "number_carmichael_2=[1729, 38665, 294409]"
   ]
  },
  {
   "cell_type": "code",
   "execution_count": 12,
   "id": "3ab34733",
   "metadata": {},
   "outputs": [
    {
     "name": "stdout",
     "output_type": "stream",
     "text": [
      "(True, 0.0) 1729\n",
      "(False, 0.004998922348022461) 12025\n",
      "(False, 0.05700540542602539) 38665\n",
      "(False, 0.30002331733703613) 89425\n",
      "(True, 0.645071268081665) 172081\n",
      "(True, 0.8240678310394287) 294409\n",
      "(False, 2.6161909103393555) 464185\n",
      "(False, 5.2984209060668945) 689185\n",
      "(False, 10.217837572097778) 977185\n",
      "(False, 15.444218397140503) 1335961\n",
      "(True, 20.117627143859863) 1773289\n",
      "(False, 46.84974932670593) 2296945\n",
      "(False, 71.56245446205139) 2914705\n",
      "(False, 98.31987309455872) 3634345\n",
      "(True, 148.88435053825378) 4463641\n"
     ]
    }
   ],
   "source": [
    "for v1 in number_3:\n",
    "    print(ferma(v1), v1)"
   ]
  },
  {
   "cell_type": "markdown",
   "id": "4d6abe78",
   "metadata": {},
   "source": [
    "Запустивши в третє перевірку, отримуємо такі числа:"
   ]
  },
  {
   "cell_type": "code",
   "execution_count": 6,
   "id": "6f58158e",
   "metadata": {},
   "outputs": [],
   "source": [
    "number_carmichael_3=[1729, 294409]"
   ]
  },
  {
   "cell_type": "markdown",
   "id": "a404f73b",
   "metadata": {},
   "source": [
    "# Algorithm Solovay-Strassen"
   ]
  },
  {
   "cell_type": "code",
   "execution_count": 11,
   "id": "172b62fd",
   "metadata": {},
   "outputs": [],
   "source": [
    "def ncd(a, b):\n",
    "    while a*b!=0:\n",
    "        if a>b:\n",
    "            a=a%b\n",
    "        else:\n",
    "            b=b%a\n",
    "    return a+b"
   ]
  },
  {
   "cell_type": "code",
   "execution_count": 12,
   "id": "10d29bf0",
   "metadata": {},
   "outputs": [],
   "source": [
    "def solovay_strassen(m, k):\n",
    "    '''k-число яке виявляє точність тесту\n",
    "    \n",
    "    m - число що перевіряється на простоту'''\n",
    "    start = time.time()\n",
    "    t=m-1\n",
    "    for i in range(1, k):\n",
    "        w = random.randint(2, t)\n",
    "        if ncd(w, m)>1: \n",
    "            end = time.time() - start\n",
    "            return end, 'складене'\n",
    "        break\n",
    "        if (pow(w,((m-1)/2)))%m!=(w/m):\n",
    "            end = time.time() - start\n",
    "            return end, 'складене'\n",
    "    end = time.time() - start\n",
    "    return end, 'просте'"
   ]
  },
  {
   "cell_type": "code",
   "execution_count": 19,
   "id": "0805e6d9",
   "metadata": {},
   "outputs": [
    {
     "name": "stdout",
     "output_type": "stream",
     "text": [
      "(0.0010001659393310547, 'просте') 1729\n",
      "(0.0, 'просте') 12025\n",
      "(0.0, 'складене') 38665\n",
      "(0.0, 'просте') 89425\n",
      "(0.0, 'складене') 172081\n",
      "(0.0, 'просте') 294409\n",
      "(0.0, 'просте') 464185\n",
      "(0.0, 'просте') 689185\n",
      "(0.0, 'просте') 977185\n",
      "(0.0, 'складене') 1335961\n",
      "(0.0, 'просте') 1773289\n",
      "(0.0, 'просте') 2296945\n",
      "(0.0, 'складене') 2914705\n",
      "(0.0, 'просте') 3634345\n",
      "(0.0, 'просте') 4463641\n"
     ]
    }
   ],
   "source": [
    "for k1 in number_3:\n",
    "    print(solovay_strassen(k1, 100), k1)"
   ]
  },
  {
   "cell_type": "code",
   "execution_count": 23,
   "id": "ad7c5b97",
   "metadata": {},
   "outputs": [
    {
     "name": "stdout",
     "output_type": "stream",
     "text": [
      "(0.0, 'просте') 1729\n",
      "(0.0, 'складене') 38665\n",
      "(0.0, 'складене') 172081\n",
      "(0.0, 'просте') 294409\n",
      "(0.0, 'просте') 1773289\n",
      "(0.0, 'просте') 4463641\n"
     ]
    }
   ],
   "source": [
    "for k2 in number_carmichael_1:\n",
    "    print(solovay_strassen(k2, 100), k2)"
   ]
  },
  {
   "cell_type": "code",
   "execution_count": 26,
   "id": "23175ab7",
   "metadata": {},
   "outputs": [
    {
     "name": "stdout",
     "output_type": "stream",
     "text": [
      "(0.0, 'просте') 1729\n",
      "(0.0, 'просте') 38665\n",
      "(0.001005411148071289, 'просте') 172081\n",
      "(0.0, 'просте') 294409\n",
      "(0.0, 'просте') 1773289\n",
      "(0.0, 'просте') 4463641\n"
     ]
    }
   ],
   "source": [
    "for k2_1 in number_carmichael_1:\n",
    "    print(solovay_strassen(k2_1, 100), k2_1)"
   ]
  },
  {
   "cell_type": "code",
   "execution_count": 27,
   "id": "bc6d999c",
   "metadata": {},
   "outputs": [
    {
     "name": "stdout",
     "output_type": "stream",
     "text": [
      "(0.0, 'складене') 1729\n",
      "(0.0, 'просте') 38665\n",
      "(0.0, 'складене') 294409\n"
     ]
    }
   ],
   "source": [
    "for k3 in number_carmichael_2:\n",
    "    print(solovay_strassen(k3, 100), k3)"
   ]
  },
  {
   "cell_type": "code",
   "execution_count": 31,
   "id": "030e3dd2",
   "metadata": {},
   "outputs": [
    {
     "name": "stdout",
     "output_type": "stream",
     "text": [
      "(0.0, 'просте') 1729\n",
      "(0.0, 'складене') 38665\n",
      "(0.0, 'просте') 294409\n"
     ]
    }
   ],
   "source": [
    "for k3_1 in number_carmichael_2:\n",
    "    print(solovay_strassen(k3_1, 100), k3_1)"
   ]
  },
  {
   "cell_type": "code",
   "execution_count": 32,
   "id": "c088797d",
   "metadata": {},
   "outputs": [
    {
     "name": "stdout",
     "output_type": "stream",
     "text": [
      "(0.0, 'просте') 1729\n",
      "(0.0, 'просте') 294409\n"
     ]
    }
   ],
   "source": [
    "for k4 in number_carmichael_3:\n",
    "    print(solovay_strassen(k4, 100), k4)"
   ]
  },
  {
   "cell_type": "code",
   "execution_count": 33,
   "id": "c0b325d0",
   "metadata": {},
   "outputs": [
    {
     "name": "stdout",
     "output_type": "stream",
     "text": [
      "(0.0, 'складене') 1729\n",
      "(0.0, 'просте') 294409\n"
     ]
    }
   ],
   "source": [
    "for k4_1 in number_carmichael_3:\n",
    "    print(solovay_strassen(k4_1, 100), k4_1)"
   ]
  },
  {
   "cell_type": "markdown",
   "id": "de3ee11f",
   "metadata": {},
   "source": [
    "Запустивши ймовірністний алгоритм маємо результат, що він може розпізнати числа Кармайкла з певною похибкою."
   ]
  },
  {
   "cell_type": "code",
   "execution_count": 18,
   "id": "f8a521e8",
   "metadata": {},
   "outputs": [
    {
     "name": "stdout",
     "output_type": "stream",
     "text": [
      "(0.0, 'складене') 1729\n",
      "(0.0, 'просте') 12025\n",
      "(0.0, 'просте') 38665\n",
      "(0.0, 'складене') 89425\n",
      "(0.0, 'складене') 172081\n",
      "(0.0, 'просте') 294409\n",
      "(0.0, 'складене') 464185\n",
      "(0.0, 'складене') 689185\n",
      "(0.0, 'складене') 977185\n",
      "(0.0, 'просте') 1335961\n",
      "(0.0, 'просте') 1773289\n",
      "(0.0, 'просте') 2296945\n",
      "(0.0, 'просте') 2914705\n",
      "(0.0, 'просте') 3634345\n",
      "(0.0, 'просте') 4463641\n"
     ]
    }
   ],
   "source": [
    "for k5 in number_3:\n",
    "    print(solovay_strassen(k5, 500), k5)"
   ]
  },
  {
   "cell_type": "markdown",
   "id": "49cee040",
   "metadata": {},
   "source": [
    "# Test Luca"
   ]
  },
  {
   "cell_type": "code",
   "execution_count": 4,
   "id": "70a206d6",
   "metadata": {},
   "outputs": [],
   "source": [
    "def ncd(a, b):\n",
    "    while a*b!=0:\n",
    "        if a>b:\n",
    "            a=a%b\n",
    "        else:\n",
    "            b=b%a\n",
    "    return a+b"
   ]
  },
  {
   "cell_type": "code",
   "execution_count": 5,
   "id": "6088f524",
   "metadata": {},
   "outputs": [],
   "source": [
    "def prime_n(n):\n",
    "    a = []\n",
    "    for i in range(3, n):\n",
    "        if ncd(i, n)==1:\n",
    "            a.append(i)\n",
    "            i+=1\n",
    "        else:\n",
    "            i+=1\n",
    "    return a"
   ]
  },
  {
   "cell_type": "code",
   "execution_count": 6,
   "id": "bcd252fa",
   "metadata": {},
   "outputs": [],
   "source": [
    "def luca(n, k):\n",
    "    '''n - число, що перевіряється на простоту, k - точність тесту'''\n",
    "    start = time.time()\n",
    "    k = prime_n(n)\n",
    "    for i in k:\n",
    "        a = random.randint(2, n-1)\n",
    "        if (a**(n-1))%n != 1:\n",
    "            end = time.time() - start\n",
    "            return 'composite', end\n",
    "        else:\n",
    "            for j in k:\n",
    "                if (a**((n-1)//2))%n != 1:\n",
    "                    j+=1\n",
    "                else:\n",
    "                    end = time.time() - start\n",
    "                    break\n",
    "                    return 'composite', end\n",
    "            end = time.time() - start\n",
    "            return 'possibly prime', end\n",
    "    end = time.time() - start\n",
    "    return 'possibly prime', end"
   ]
  },
  {
   "cell_type": "code",
   "execution_count": 7,
   "id": "52a8166c",
   "metadata": {},
   "outputs": [
    {
     "name": "stdout",
     "output_type": "stream",
     "text": [
      "('possibly prime', 0.009000778198242188) 1729\n",
      "('composite', 0.05400252342224121) 12025\n",
      "('possibly prime', 0.1310102939605713) 38665\n",
      "('composite', 0.3580284118652344) 89425\n",
      "('possibly prime', 0.7780773639678955) 172081\n",
      "('possibly prime', 1.4813745021820068) 294409\n",
      "('composite', 2.467764377593994) 464185\n",
      "('possibly prime', 5.472620248794556) 689185\n",
      "('composite', 6.782912492752075) 977185\n",
      "('composite', 13.105289220809937) 1335961\n",
      "('possibly prime', 22.483109712600708) 1773289\n",
      "('composite', 24.794692516326904) 2296945\n",
      "('composite', 41.902366399765015) 2914705\n",
      "('composite', 50.76016187667847) 3634345\n",
      "('possibly prime', 94.7852303981781) 4463641\n"
     ]
    }
   ],
   "source": [
    "for u1 in number_3:\n",
    "    print(luca(u1, 50), u1)"
   ]
  },
  {
   "cell_type": "code",
   "execution_count": 8,
   "id": "9b944e05",
   "metadata": {},
   "outputs": [
    {
     "name": "stdout",
     "output_type": "stream",
     "text": [
      "('possibly prime', 0.008000850677490234) 1729\n",
      "('composite', 0.058002471923828125) 12025\n",
      "('composite', 0.1680150032043457) 38665\n",
      "('composite', 0.39604902267456055) 89425\n",
      "('possibly prime', 0.7020769119262695) 172081\n",
      "('possibly prime', 1.7741444110870361) 294409\n",
      "('composite', 2.3822007179260254) 464185\n",
      "('composite', 3.8675949573516846) 689185\n",
      "('composite', 8.417587995529175) 977185\n",
      "('composite', 13.760112524032593) 1335961\n",
      "('composite', 21.653776168823242) 1773289\n",
      "('composite', 26.016671895980835) 2296945\n",
      "('composite', 48.97610068321228) 2914705\n",
      "('composite', 47.00963091850281) 3634345\n",
      "('composite', 77.95096707344055) 4463641\n"
     ]
    }
   ],
   "source": [
    "for u2 in number_3:\n",
    "    print(luca(u2, 100), u2)"
   ]
  },
  {
   "cell_type": "code",
   "execution_count": 9,
   "id": "92032b2b",
   "metadata": {},
   "outputs": [
    {
     "name": "stdout",
     "output_type": "stream",
     "text": [
      "('possibly prime', 0.006000518798828125) 1729\n",
      "('composite', 0.056006431579589844) 12025\n",
      "('composite', 0.15031909942626953) 38665\n",
      "('composite', 0.30053210258483887) 89425\n",
      "('composite', 0.9240717887878418) 172081\n",
      "('possibly prime', 1.3581066131591797) 294409\n",
      "('possibly prime', 2.448197841644287) 464185\n",
      "('composite', 4.273351669311523) 689185\n",
      "('composite', 8.341781616210938) 977185\n",
      "('composite', 17.01050329208374) 1335961\n",
      "('possibly prime', 21.311004161834717) 1773289\n",
      "('composite', 23.868945360183716) 2296945\n",
      "('composite', 35.4414119720459) 2914705\n",
      "('composite', 66.63174033164978) 3634345\n",
      "('possibly prime', 84.97906136512756) 4463641\n"
     ]
    }
   ],
   "source": [
    "for u3 in number_3:\n",
    "    print(luca(u3, 500), u3)"
   ]
  },
  {
   "cell_type": "code",
   "execution_count": 10,
   "id": "863fd451",
   "metadata": {},
   "outputs": [
    {
     "name": "stdout",
     "output_type": "stream",
     "text": [
      "('composite', 0.007002353668212891) 1729\n",
      "('composite', 0.06200242042541504) 12025\n",
      "('composite', 0.09026789665222168) 38665\n",
      "('composite', 0.3090393543243408) 89425\n",
      "('possibly prime', 0.9941229820251465) 172081\n",
      "('possibly prime', 2.370187997817993) 294409\n",
      "('composite', 2.434196710586548) 464185\n",
      "('composite', 3.913317918777466) 689185\n",
      "('possibly prime', 8.340680360794067) 977185\n",
      "('composite', 15.336808443069458) 1335961\n",
      "('possibly prime', 26.26619529724121) 1773289\n",
      "('composite', 25.63558530807495) 2296945\n",
      "('composite', 35.51931381225586) 2914705\n",
      "('composite', 52.62042045593262) 3634345\n",
      "('possibly prime', 124.69616293907166) 4463641\n"
     ]
    }
   ],
   "source": [
    "for u4 in number_3:\n",
    "    print(luca(u4, 1000), u4)"
   ]
  },
  {
   "cell_type": "code",
   "execution_count": null,
   "id": "a666ed53",
   "metadata": {},
   "outputs": [],
   "source": []
  },
  {
   "cell_type": "code",
   "execution_count": null,
   "id": "91b407fd",
   "metadata": {},
   "outputs": [],
   "source": []
  }
 ],
 "metadata": {
  "kernelspec": {
   "display_name": "Python 3",
   "language": "python",
   "name": "python3"
  },
  "language_info": {
   "codemirror_mode": {
    "name": "ipython",
    "version": 3
   },
   "file_extension": ".py",
   "mimetype": "text/x-python",
   "name": "python",
   "nbconvert_exporter": "python",
   "pygments_lexer": "ipython3",
   "version": "3.8.8"
  }
 },
 "nbformat": 4,
 "nbformat_minor": 5
}
